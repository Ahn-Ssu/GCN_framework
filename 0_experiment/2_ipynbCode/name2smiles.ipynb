{
 "cells": [
  {
   "cell_type": "code",
   "execution_count": 12,
   "metadata": {},
   "outputs": [
    {
     "data": {
      "text/plain": [
       "True"
      ]
     },
     "execution_count": 12,
     "metadata": {},
     "output_type": "execute_result"
    }
   ],
   "source": [
    "import torch \n",
    "from rdkit import Chem\n",
    "torch.cuda.is_available()"
   ]
  },
  {
   "cell_type": "code",
   "execution_count": 11,
   "metadata": {},
   "outputs": [
    {
     "name": "stdout",
     "output_type": "stream",
     "text": [
      "CC[C@H]1CCCCN1C(=O)[C@@H](C)OC(=O)c1c(C)oc(-n2cccc2)c1C#N\n"
     ]
    }
   ],
   "source": [
    "mol = Chem.rdmolfiles.MolFromMolFile(\"C:\\\\Users\\\\GCV-ahnssu\\\\git\\\\GCN_framework\\\\2_data\\\\1_DataSet\\\\mol_files\\\\train_set\\\\train_0_ex.mol\")\n",
    "smiles = Chem.rdmolfiles.MolToSmiles(mol)\n",
    "print(smiles)"
   ]
  },
  {
   "cell_type": "code",
   "execution_count": 13,
   "metadata": {},
   "outputs": [
    {
     "name": "stdout",
     "output_type": "stream",
     "text": [
      "CC[C@H]1CCCCN1C(=O)[C@@H](C)OC(=O)c1c(C)oc(-n2cccc2)c1C#N\n"
     ]
    }
   ],
   "source": [
    "mol = Chem.rdmolfiles.MolFromMolFile(\"C:\\\\Users\\\\GCV-ahnssu\\\\git\\\\GCN_framework\\\\2_data\\\\1_DataSet\\\\mol_files\\\\train_set\\\\train_0_g.mol\")\n",
    "smiles = Chem.rdmolfiles.MolToSmiles(mol)\n",
    "print(smiles)"
   ]
  },
  {
   "cell_type": "code",
   "execution_count": null,
   "metadata": {},
   "outputs": [],
   "source": [
    "import os\n",
    "\n",
    "dir_path = \"C:\\\\Users\\\\GCV-ahnssu\\\\git\\\\GCN_framework\\\\2_data\\\\1_DataSet\\\\mol_files\\\\train_set\"\n",
    "\n",
    "res = [] \n",
    "\n",
    "for path in os.listdir(dir_path):\n",
    "    if os.path.isfile(os.path.join(dir_path, path)):    \n",
    "        res.append(dir_path+ '\\\\' + path)\n"
   ]
  },
  {
   "cell_type": "code",
   "execution_count": 17,
   "metadata": {},
   "outputs": [],
   "source": [
    "molecules = []\n",
    "\n",
    "for idx in range(0,len(res),2):\n",
    "    mol = Chem.rdmolfiles.MolFromMolFile(res[idx])\n",
    "    molecules.append(Chem.rdmolfiles.MolToSmiles(mol))"
   ]
  },
  {
   "cell_type": "code",
   "execution_count": 18,
   "metadata": {},
   "outputs": [],
   "source": [
    "import pandas\n",
    "\n"
   ]
  },
  {
   "cell_type": "code",
   "execution_count": 20,
   "metadata": {},
   "outputs": [
    {
     "name": "stdout",
     "output_type": "stream",
     "text": [
      "                                                  SMIELS\n",
      "0      CC[C@H]1CCCCN1C(=O)[C@@H](C)OC(=O)c1c(C)oc(-n2...\n",
      "1        CCOc1ccc(C(=O)N2C[C@@H](N)[C@H](c3ccccc3)C2)cc1\n",
      "2      Cn1cc(-c2cnc(N)c(-c3ccc(C(=O)NCc4cccc(F)c4)c(F...\n",
      "3               COc1ccc2nc(NC(=O)c3occc3COc3ccccc3)sc2c1\n",
      "4                    CC(C)n1cc(OC[C@@H](CBr)c2ccccc2)cn1\n",
      "...                                                  ...\n",
      "18152  COc1ccc([C@H]2CC(=O)C3=C(C2)Nc2ccccc2N(C(=O)c2...\n",
      "18153         COc1ccc(OCCNC(=O)c2cccc(NS(C)(=O)=O)c2)cc1\n",
      "18154  CC1(C)[C@H]2CC[C@]1(CS(=O)(=O)N1CC(=O)N[C@@H]3...\n",
      "18155        CCOc1ccc(NC(=O)[C@@](C)(OCC)C2CC2)c2cccnc12\n",
      "18156     CCN(CC)C(=O)c1ccccc1NC(=O)CCc1nc(-c2cccnc2)no1\n",
      "\n",
      "[18157 rows x 1 columns]\n"
     ]
    }
   ],
   "source": [
    "\n",
    "df = pandas.DataFrame(molecules, columns=['SMIELS'])\n",
    "print(df)"
   ]
  },
  {
   "cell_type": "code",
   "execution_count": 21,
   "metadata": {},
   "outputs": [],
   "source": [
    "df.to_csv(\"C:\\\\Users\\\\GCV-ahnssu\\\\git\\\\GCN_framework\\\\2_data\\\\1_DataSet\\\\mol_files\\\\train_set_SMILES.csv\")"
   ]
  },
  {
   "cell_type": "code",
   "execution_count": null,
   "metadata": {},
   "outputs": [],
   "source": []
  }
 ],
 "metadata": {
  "kernelspec": {
   "display_name": "Python 3.9.13 ('base')",
   "language": "python",
   "name": "python3"
  },
  "language_info": {
   "codemirror_mode": {
    "name": "ipython",
    "version": 3
   },
   "file_extension": ".py",
   "mimetype": "text/x-python",
   "name": "python",
   "nbconvert_exporter": "python",
   "pygments_lexer": "ipython3",
   "version": "3.9.13"
  },
  "orig_nbformat": 4,
  "vscode": {
   "interpreter": {
    "hash": "a8034245bc4d3529f9d9ffcd1c0ba194efca112f5dbacb6a250b6873c232e499"
   }
  }
 },
 "nbformat": 4,
 "nbformat_minor": 2
}
